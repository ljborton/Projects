{
 "cells": [
  {
   "cell_type": "markdown",
   "metadata": {
    "run_control": {
     "frozen": false,
     "read_only": false
    }
   },
   "source": [
    "# Project 2\n"
   ]
  },
  {
   "cell_type": "markdown",
   "metadata": {},
   "source": [
    "### This section takes the dataframe from part 1 and cleans it for modeling."
   ]
  },
  {
   "cell_type": "code",
   "execution_count": 50,
   "metadata": {},
   "outputs": [],
   "source": [
    "import pandas as pd\n",
    "import numpy as np"
   ]
  },
  {
   "cell_type": "code",
   "execution_count": 43,
   "metadata": {},
   "outputs": [
    {
     "data": {
      "text/html": [
       "<div>\n",
       "<style scoped>\n",
       "    .dataframe tbody tr th:only-of-type {\n",
       "        vertical-align: middle;\n",
       "    }\n",
       "\n",
       "    .dataframe tbody tr th {\n",
       "        vertical-align: top;\n",
       "    }\n",
       "\n",
       "    .dataframe thead th {\n",
       "        text-align: right;\n",
       "    }\n",
       "</style>\n",
       "<table border=\"1\" class=\"dataframe\">\n",
       "  <thead>\n",
       "    <tr style=\"text-align: right;\">\n",
       "      <th></th>\n",
       "      <th>Company</th>\n",
       "      <th>Reviews</th>\n",
       "      <th>CEO_Reviews</th>\n",
       "      <th>Founded</th>\n",
       "      <th>Headquarters</th>\n",
       "      <th>Private_Public</th>\n",
       "      <th>Benefit_Rating</th>\n",
       "      <th>Revenue</th>\n",
       "      <th>Industry</th>\n",
       "      <th>Size</th>\n",
       "    </tr>\n",
       "  </thead>\n",
       "  <tbody>\n",
       "    <tr>\n",
       "      <th>0</th>\n",
       "      <td>Waggener Edstrom</td>\n",
       "      <td>3.8\\nRating Trends</td>\n",
       "      <td>93%</td>\n",
       "      <td>1983</td>\n",
       "      <td>Headquarters Bellevue, WA</td>\n",
       "      <td>Company - Private</td>\n",
       "      <td>3.8\\n32 Ratings</td>\n",
       "      <td>Unknown / Non-Applicable</td>\n",
       "      <td>Advertising &amp; Marketing</td>\n",
       "      <td>501 to 1000 employees</td>\n",
       "    </tr>\n",
       "    <tr>\n",
       "      <th>1</th>\n",
       "      <td>InVisionApp</td>\n",
       "      <td>4.7\\nRating Trends</td>\n",
       "      <td>90%</td>\n",
       "      <td>2011</td>\n",
       "      <td>Headquarters New York, NY</td>\n",
       "      <td>Company - Private</td>\n",
       "      <td>4.2\\n17 Ratings</td>\n",
       "      <td>Unknown / Non-Applicable</td>\n",
       "      <td>Internet</td>\n",
       "      <td>501 to 1000 employees</td>\n",
       "    </tr>\n",
       "    <tr>\n",
       "      <th>2</th>\n",
       "      <td>New Relic</td>\n",
       "      <td>4.2\\nRating Trends</td>\n",
       "      <td>95%</td>\n",
       "      <td>2008</td>\n",
       "      <td>Headquarters San Francisco, CA</td>\n",
       "      <td>Company - Public (NEWR)</td>\n",
       "      <td>4.0\\n46 Ratings</td>\n",
       "      <td>$100 to $500 million (USD) per year</td>\n",
       "      <td>Computer Hardware &amp; Software</td>\n",
       "      <td>1001 to 5000 employees</td>\n",
       "    </tr>\n",
       "    <tr>\n",
       "      <th>3</th>\n",
       "      <td>Akraya</td>\n",
       "      <td>3.5\\nRating Trends</td>\n",
       "      <td>84%</td>\n",
       "      <td>2001</td>\n",
       "      <td>Headquarters Santa Clara, CA</td>\n",
       "      <td>Company - Private</td>\n",
       "      <td>3.5\\n4 Ratings</td>\n",
       "      <td>$25 to $50 million (USD) per year</td>\n",
       "      <td>Staffing &amp; Outsourcing</td>\n",
       "      <td>201 to 500 employees</td>\n",
       "    </tr>\n",
       "    <tr>\n",
       "      <th>4</th>\n",
       "      <td>Shyft Technologies</td>\n",
       "      <td>5.0\\nRating Trends</td>\n",
       "      <td>100%</td>\n",
       "      <td>2016</td>\n",
       "      <td>Headquarters Seattle, WA</td>\n",
       "      <td>Company - Private</td>\n",
       "      <td>5.0\\n1 Rating</td>\n",
       "      <td>Unknown / Non-Applicable</td>\n",
       "      <td>Computer Hardware &amp; Software</td>\n",
       "      <td>1 to 50 employees</td>\n",
       "    </tr>\n",
       "    <tr>\n",
       "      <th>5</th>\n",
       "      <td>Henkel</td>\n",
       "      <td>3.4\\nRating Trends</td>\n",
       "      <td>74%</td>\n",
       "      <td>1876</td>\n",
       "      <td>Headquarters Düsseldorf (Germany)</td>\n",
       "      <td>Company - Public (HEN)</td>\n",
       "      <td>3.9\\n74 Ratings</td>\n",
       "      <td>$10+ billion (USD) per year</td>\n",
       "      <td>Consumer Products Manufacturing</td>\n",
       "      <td>10000+ employees</td>\n",
       "    </tr>\n",
       "  </tbody>\n",
       "</table>\n",
       "</div>"
      ],
      "text/plain": [
       "               Company             Reviews CEO_Reviews Founded  \\\n",
       "0    Waggener Edstrom   3.8\\nRating Trends         93%    1983   \n",
       "1         InVisionApp   4.7\\nRating Trends         90%    2011   \n",
       "2           New Relic   4.2\\nRating Trends         95%    2008   \n",
       "3              Akraya   3.5\\nRating Trends         84%    2001   \n",
       "4  Shyft Technologies   5.0\\nRating Trends        100%    2016   \n",
       "5              Henkel   3.4\\nRating Trends         74%    1876   \n",
       "\n",
       "                        Headquarters           Private_Public  \\\n",
       "0          Headquarters Bellevue, WA        Company - Private   \n",
       "1          Headquarters New York, NY        Company - Private   \n",
       "2     Headquarters San Francisco, CA  Company - Public (NEWR)   \n",
       "3       Headquarters Santa Clara, CA        Company - Private   \n",
       "4           Headquarters Seattle, WA        Company - Private   \n",
       "5  Headquarters Düsseldorf (Germany)   Company - Public (HEN)   \n",
       "\n",
       "    Benefit_Rating                              Revenue  \\\n",
       "0  3.8\\n32 Ratings             Unknown / Non-Applicable   \n",
       "1  4.2\\n17 Ratings             Unknown / Non-Applicable   \n",
       "2  4.0\\n46 Ratings  $100 to $500 million (USD) per year   \n",
       "3   3.5\\n4 Ratings    $25 to $50 million (USD) per year   \n",
       "4    5.0\\n1 Rating             Unknown / Non-Applicable   \n",
       "5  3.9\\n74 Ratings          $10+ billion (USD) per year   \n",
       "\n",
       "                          Industry                    Size  \n",
       "0          Advertising & Marketing   501 to 1000 employees  \n",
       "1                         Internet   501 to 1000 employees  \n",
       "2     Computer Hardware & Software  1001 to 5000 employees  \n",
       "3           Staffing & Outsourcing    201 to 500 employees  \n",
       "4     Computer Hardware & Software       1 to 50 employees  \n",
       "5  Consumer Products Manufacturing        10000+ employees  "
      ]
     },
     "execution_count": 43,
     "metadata": {},
     "output_type": "execute_result"
    }
   ],
   "source": [
    "# Save as pickle\n",
    "import pickle as pkl\n",
    "with open(\"df900.pkl\", 'rb') as picklefile: \n",
    "    df900 = pkl.load(picklefile)\n",
    "df900[0:6]"
   ]
  },
  {
   "cell_type": "code",
   "execution_count": 12,
   "metadata": {},
   "outputs": [
    {
     "name": "stdout",
     "output_type": "stream",
     "text": [
      "<class 'pandas.core.frame.DataFrame'>\n",
      "RangeIndex: 286 entries, 0 to 285\n",
      "Data columns (total 10 columns):\n",
      "Company           286 non-null object\n",
      "Reviews           286 non-null object\n",
      "CEO_Reviews       286 non-null object\n",
      "Founded           286 non-null object\n",
      "Headquarters      286 non-null object\n",
      "Private_Public    286 non-null object\n",
      "Benefit_Rating    286 non-null object\n",
      "Revenue           286 non-null object\n",
      "Industry          286 non-null object\n",
      "Size              286 non-null object\n",
      "dtypes: object(10)\n",
      "memory usage: 22.4+ KB\n"
     ]
    }
   ],
   "source": [
    "df900.info()"
   ]
  },
  {
   "cell_type": "code",
   "execution_count": 44,
   "metadata": {
    "scrolled": true
   },
   "outputs": [
    {
     "data": {
      "text/plain": [
       "(286, 16)"
      ]
     },
     "execution_count": 44,
     "metadata": {},
     "output_type": "execute_result"
    }
   ],
   "source": [
    "''' This changes grabs the relevant parts of each string, changes the string values to floating point,\n",
    "and changes unknown values to \"NaN\".\n",
    "'''\n",
    "df900['Reviews'] = (df900['Reviews'].str.replace('N/A', 'NaN'))\n",
    "df900['Reviews_clean'] = (df900['Reviews'].astype(str).str[0:3]).astype(float)\n",
    "df900['Benefit_Rating'] = (df900['Benefit_Rating'].str.replace('NA', 'NaN'))\n",
    "df900['Benefit_Rating_clean'] = (df900['Benefit_Rating'].astype(str).str[0:3]).astype(float)\n",
    "df900['CEO_Reviews'] = df900['CEO_Reviews'].str.replace('N/A', 'NaN')\n",
    "df900['CEO_Reviews'] = df900['CEO_Reviews'].str.replace('Na', 'NaN')\n",
    "df900['CEO_Reviews_clean'] = df900['CEO_Reviews'].str[:-1].astype(float)\n",
    "df900['Founded_clean'] = df900['Founded'].str.replace('Unknown', 'NaN')\n",
    "df900['Revenue_clean'] = df900['Revenue'].str.replace('Unknown / Non-Applicable', 'NaN' )\n",
    "df900['Revenue_clean2'] = df900['Revenue_clean'].str.replace('NaN per year', 'NaN')\n",
    "df900.shape"
   ]
  },
  {
   "cell_type": "code",
   "execution_count": 47,
   "metadata": {},
   "outputs": [],
   "source": [
    "#Relabeling revenue featuree\n",
    "conditions = [\n",
    "    (df900['Revenue_clean2'] == 'Less than $1 million (USD) per year'), \n",
    "    (df900['Revenue_clean2'] == '$1 to $5 million (USD) per year'),\n",
    "    (df900['Revenue_clean2'] == '$5 to $10 million (USD) per year'),\n",
    "    (df900['Revenue_clean2'] == '$10 to $25 million (USD) per year'),\n",
    "    (df900['Revenue_clean2'] == '$25 to $50 million (USD) per year'),\n",
    "    (df900['Revenue_clean2'] == '$50 to $100 million (USD) per year'),\n",
    "    (df900['Revenue_clean2'] == '$100 to $500 million (USD) per year'),\n",
    "    (df900['Revenue_clean2'] == '$500 million to $1 billion (USD) per year'),\n",
    "    (df900['Revenue_clean2'] == '$1 to $2 billion (USD) per year'),\n",
    "    (df900['Revenue_clean2'] == '$2 to $5 billion (USD) per year'),\n",
    "    (df900['Revenue_clean2'] == '$5 to $10 billion (USD) per year'),\n",
    "    (df900['Revenue_clean2'] == '$10+ billion (USD) per year'),\n",
    "    (df900['Revenue_clean2'] == 'NaN')]\n",
    "choices = [int(1), int(5),int(10), int(25), int(50), int(100), int(500),int (1000), int(2000),\n",
    "           int(5000), int(10000),int(50000),'NaN']\n",
    "df900['Revenue_clean2'] = np.select(conditions, choices)"
   ]
  },
  {
   "cell_type": "code",
   "execution_count": 48,
   "metadata": {},
   "outputs": [],
   "source": [
    "#Relabeling size\n",
    "conditions = [\n",
    "    (df900['Size'] == '1 to 50 employees'), \n",
    "    (df900['Size'] == '51 to 200 employees'),\n",
    "    (df900['Size'] == '201 to 500 employees'),\n",
    "    (df900['Size'] == '501 to 1000 employees'),\n",
    "    (df900['Size'] == '1001 to 5000 employees'),\n",
    "    (df900['Size'] == '5001 to 10000 employees'),\n",
    "    (df900['Size'] == '10000+ employees'),\n",
    "    (df900['Size'] == 'Unknown') ]\n",
    "choices = [int(1), int(51),int(201), int(501), int(1001), int(5001),int (10001), 'NaN']\n",
    "df900['Size_clean'] = np.select(conditions, choices)"
   ]
  },
  {
   "cell_type": "code",
   "execution_count": 51,
   "metadata": {},
   "outputs": [
    {
     "name": "stderr",
     "output_type": "stream",
     "text": [
      "/anaconda3/lib/python3.6/site-packages/pandas/core/indexing.py:189: SettingWithCopyWarning: \n",
      "A value is trying to be set on a copy of a slice from a DataFrame\n",
      "\n",
      "See the caveats in the documentation: http://pandas.pydata.org/pandas-docs/stable/indexing.html#indexing-view-versus-copy\n",
      "  self._setitem_with_indexer(indexer, value)\n"
     ]
    }
   ],
   "source": [
    "#Greater Seattle Headquarters are labeled \"1\" Everything else is \"0\"\n",
    "df900['Headquarters'].iloc[[5]] = 0\n",
    "conditions = [\n",
    "    (df900['Headquarters'] == 'Headquarters Seattle, WA') | \n",
    "    (df900['Headquarters'] == 'Headquarters Bellevue, WA') | \n",
    "    (df900['Headquarters'] == 'Headquarters Kirkland, WA') |\n",
    "    (df900['Headquarters'] == 'Headquarters Mountlake Terrace, WA') |\n",
    "    (df900['Headquarters'] == 'Headquarters Tukwila, WA')|\n",
    "    (df900['Headquarters'] == 'Headquarters Mercer Island, WA') |\n",
    "    (df900['Headquarters'] == 'Headquarters Bothell, WA') | \n",
    "    (df900['Headquarters'] == 'Headquarters Redmond, WA') |\n",
    "    (df900['Headquarters'] == 'Headquarters Renton, WA')]\n",
    "\n",
    "   \n",
    "choices = [1]\n",
    "df900['Headquarters_clean'] = np.select(conditions, choices)"
   ]
  },
  {
   "cell_type": "code",
   "execution_count": 53,
   "metadata": {},
   "outputs": [],
   "source": [
    "# Private is labeled \"1\".  Everything else is set to \"0\".\n",
    "maskpub = df900['Private_Public'].apply(lambda x: 'Public' in x)\n",
    "conditions = [\n",
    "    (maskpub),\n",
    "    (df900['Private_Public'] == 'Company - Private'), \n",
    "    (df900['Private_Public'] == 'Nonprofit Organization'),\n",
    "    (df900['Private_Public'] == 'College / University'), \n",
    "    (df900['Private_Public'] == 'Hospital'), \n",
    "    (df900['Private_Public'] == 'Private Practice / Firm'),\n",
    "    (df900['Private_Public'] == 'School / School District'),\n",
    "    (df900['Private_Public'] == 'Government'),\n",
    "    (df900['Private_Public'] =='Subsidiary or Business Segment'),\n",
    "    (df900['Private_Public'] == 'Unknown')]\n",
    "   \n",
    "choices = [1,0, 0, 0,0, 0,0,\n",
    "           0, 0, 'NaN']\n",
    "\n",
    "df900['Private_public_clean'] = np.select(conditions, choices)"
   ]
  },
  {
   "cell_type": "code",
   "execution_count": 54,
   "metadata": {},
   "outputs": [
    {
     "name": "stdout",
     "output_type": "stream",
     "text": [
      "<class 'pandas.core.frame.DataFrame'>\n",
      "RangeIndex: 286 entries, 0 to 285\n",
      "Data columns (total 19 columns):\n",
      "Company                 286 non-null object\n",
      "Reviews                 286 non-null object\n",
      "CEO_Reviews             286 non-null object\n",
      "Founded                 286 non-null object\n",
      "Headquarters            286 non-null object\n",
      "Private_Public          286 non-null object\n",
      "Benefit_Rating          286 non-null object\n",
      "Revenue                 286 non-null object\n",
      "Industry                286 non-null object\n",
      "Size                    286 non-null object\n",
      "Reviews_clean           277 non-null float64\n",
      "Benefit_Rating_clean    250 non-null float64\n",
      "CEO_Reviews_clean       255 non-null float64\n",
      "Founded_clean           235 non-null float64\n",
      "Revenue_clean           286 non-null object\n",
      "Revenue_clean2          196 non-null float64\n",
      "Size_clean              285 non-null float64\n",
      "Headquarters_clean      286 non-null int64\n",
      "Private_public_clean    284 non-null float64\n",
      "dtypes: float64(7), int64(1), object(11)\n",
      "memory usage: 42.5+ KB\n"
     ]
    }
   ],
   "source": [
    "#All NaN need to be changed to floating points so they can be removed\n",
    "df900['Revenue_clean2'] = pd.to_numeric(df900['Revenue_clean2'],errors = 'coerce')\n",
    "df900['Founded_clean']= pd.to_numeric(df900['Founded_clean'],errors = 'coerce')\n",
    "df900['Size_clean']= pd.to_numeric(df900['Size_clean'],errors = 'coerce')\n",
    "df900['Private_public_clean']= pd.to_numeric(df900['Private_public_clean'],errors = 'coerce')\n",
    "df900.info()"
   ]
  },
  {
   "cell_type": "code",
   "execution_count": 55,
   "metadata": {},
   "outputs": [
    {
     "data": {
      "text/plain": [
       "(145, 19)"
      ]
     },
     "execution_count": 55,
     "metadata": {},
     "output_type": "execute_result"
    }
   ],
   "source": [
    "#Removing rows with NaN's \n",
    "df900.dropna(0,how = 'any', inplace=True)\n",
    "df900.shape"
   ]
  },
  {
   "cell_type": "code",
   "execution_count": 57,
   "metadata": {},
   "outputs": [],
   "source": [
    "'''There are many duplicate companies with different names:  Fred Hutch, Fred Hutchison, etc.\n",
    "Find duplicates by all columns except company to verify, then sort.  Verify they are indeed duplicates with \n",
    "the same values except company.  Then delete the first duplicate value.\n",
    "'''\n",
    "#Use original column values (not cleaned versions)\n",
    "\n",
    "# y = df900[df900.duplicated(subset=['Reviews', 'CEO_Reviews', 'Founded', 'Headquarters','Private_Public', 'Benefit_Rating', 'Revenue', 'Industry', 'Size'], keep=False)]\n",
    "# y.sort_values(['CEO_Reviews','Founded'])\n",
    "\n",
    "df900.drop_duplicates(subset=['Reviews', 'CEO_Reviews', 'Founded', 'Headquarters','Private_Public', 'Benefit_Rating', 'Revenue', 'Industry', 'Size'], keep='first', inplace = True)"
   ]
  },
  {
   "cell_type": "code",
   "execution_count": null,
   "metadata": {},
   "outputs": [],
   "source": [
    "df900.to_csv('df900_clean_add.csv')"
   ]
  }
 ],
 "metadata": {
  "anaconda-cloud": {},
  "kernelspec": {
   "display_name": "Python 3",
   "language": "python",
   "name": "python3"
  },
  "language_info": {
   "codemirror_mode": {
    "name": "ipython",
    "version": 3
   },
   "file_extension": ".py",
   "mimetype": "text/x-python",
   "name": "python",
   "nbconvert_exporter": "python",
   "pygments_lexer": "ipython3",
   "version": "3.6.5"
  },
  "latex_envs": {
   "LaTeX_envs_menu_present": true,
   "bibliofile": "biblio.bib",
   "cite_by": "apalike",
   "current_citInitial": 1,
   "eqLabelWithNumbers": true,
   "eqNumInitial": 1,
   "hotkeys": {
    "equation": "Ctrl-E",
    "itemize": "Ctrl-I"
   },
   "labels_anchors": false,
   "latex_user_defs": false,
   "report_style_numbering": false,
   "user_envs_cfg": false
  },
  "toc": {
   "nav_menu": {
    "height": "210px",
    "width": "252px"
   },
   "number_sections": false,
   "sideBar": false,
   "skip_h1_title": false,
   "toc_cell": false,
   "toc_position": {},
   "toc_section_display": "block",
   "toc_window_display": false
  },
  "varInspector": {
   "cols": {
    "lenName": 16,
    "lenType": 16,
    "lenVar": 40
   },
   "kernels_config": {
    "python": {
     "delete_cmd_postfix": "",
     "delete_cmd_prefix": "del ",
     "library": "var_list.py",
     "varRefreshCmd": "print(var_dic_list())"
    },
    "r": {
     "delete_cmd_postfix": ") ",
     "delete_cmd_prefix": "rm(",
     "library": "var_list.r",
     "varRefreshCmd": "cat(var_dic_list()) "
    }
   },
   "types_to_exclude": [
    "module",
    "function",
    "builtin_function_or_method",
    "instance",
    "_Feature"
   ],
   "window_display": false
  }
 },
 "nbformat": 4,
 "nbformat_minor": 2
}
